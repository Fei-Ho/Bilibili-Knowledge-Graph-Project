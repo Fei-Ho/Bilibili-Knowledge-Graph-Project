{
 "cells": [
  {
   "cell_type": "code",
   "execution_count": 35,
   "metadata": {},
   "outputs": [],
   "source": [
    "import pandas as pd\n",
    "import requests\n",
    "import json\n",
    "import time"
   ]
  },
  {
   "cell_type": "code",
   "execution_count": 36,
   "metadata": {},
   "outputs": [
    {
     "data": {
      "text/html": [
       "<div>\n",
       "<style scoped>\n",
       "    .dataframe tbody tr th:only-of-type {\n",
       "        vertical-align: middle;\n",
       "    }\n",
       "\n",
       "    .dataframe tbody tr th {\n",
       "        vertical-align: top;\n",
       "    }\n",
       "\n",
       "    .dataframe thead th {\n",
       "        text-align: right;\n",
       "    }\n",
       "</style>\n",
       "<table border=\"1\" class=\"dataframe\">\n",
       "  <thead>\n",
       "    <tr style=\"text-align: right;\">\n",
       "      <th></th>\n",
       "      <th>mid</th>\n",
       "      <th>用户名</th>\n",
       "    </tr>\n",
       "  </thead>\n",
       "  <tbody>\n",
       "    <tr>\n",
       "      <th>0</th>\n",
       "      <td>326499679</td>\n",
       "      <td>哔哩哔哩漫画</td>\n",
       "    </tr>\n",
       "    <tr>\n",
       "      <th>1</th>\n",
       "      <td>546195</td>\n",
       "      <td>老番茄</td>\n",
       "    </tr>\n",
       "    <tr>\n",
       "      <th>2</th>\n",
       "      <td>517327498</td>\n",
       "      <td>罗翔说刑法</td>\n",
       "    </tr>\n",
       "    <tr>\n",
       "      <th>3</th>\n",
       "      <td>9824766</td>\n",
       "      <td>敬汉卿</td>\n",
       "    </tr>\n",
       "    <tr>\n",
       "      <th>4</th>\n",
       "      <td>777536</td>\n",
       "      <td>LexBurner</td>\n",
       "    </tr>\n",
       "    <tr>\n",
       "      <th>...</th>\n",
       "      <td>...</td>\n",
       "      <td>...</td>\n",
       "    </tr>\n",
       "    <tr>\n",
       "      <th>37645</th>\n",
       "      <td>20835482</td>\n",
       "      <td>一个臭枸杞</td>\n",
       "    </tr>\n",
       "    <tr>\n",
       "      <th>37646</th>\n",
       "      <td>2522833</td>\n",
       "      <td>叶生活_</td>\n",
       "    </tr>\n",
       "    <tr>\n",
       "      <th>37647</th>\n",
       "      <td>491372204</td>\n",
       "      <td>小白解题</td>\n",
       "    </tr>\n",
       "    <tr>\n",
       "      <th>37648</th>\n",
       "      <td>2450927</td>\n",
       "      <td>鹤伞Ria_official</td>\n",
       "    </tr>\n",
       "    <tr>\n",
       "      <th>37649</th>\n",
       "      <td>40598157</td>\n",
       "      <td>XAERO_Q</td>\n",
       "    </tr>\n",
       "  </tbody>\n",
       "</table>\n",
       "<p>37650 rows × 2 columns</p>\n",
       "</div>"
      ],
      "text/plain": [
       "             mid             用户名\n",
       "0      326499679          哔哩哔哩漫画\n",
       "1         546195             老番茄\n",
       "2      517327498           罗翔说刑法\n",
       "3        9824766             敬汉卿\n",
       "4         777536       LexBurner\n",
       "...          ...             ...\n",
       "37645   20835482           一个臭枸杞\n",
       "37646    2522833            叶生活_\n",
       "37647  491372204            小白解题\n",
       "37648    2450927  鹤伞Ria_official\n",
       "37649   40598157         XAERO_Q\n",
       "\n",
       "[37650 rows x 2 columns]"
      ]
     },
     "execution_count": 36,
     "metadata": {},
     "output_type": "execute_result"
    }
   ],
   "source": [
    "x=pd.read_csv('up_list_raw.csv')\n",
    "x"
   ]
  },
  {
   "cell_type": "code",
   "execution_count": 37,
   "metadata": {},
   "outputs": [],
   "source": [
    "y=pd.read_csv('123.csv')"
   ]
  },
  {
   "cell_type": "code",
   "execution_count": 6,
   "metadata": {},
   "outputs": [],
   "source": [
    "url='https://api.bilibili.com/x/relation/stat?vmid=%s&jsonp=jsonp'%(123)\n",
    "tem=requests.get(url=url)"
   ]
  },
  {
   "cell_type": "code",
   "execution_count": 15,
   "metadata": {},
   "outputs": [],
   "source": [
    "z=json.loads(tem.text)"
   ]
  },
  {
   "cell_type": "code",
   "execution_count": 42,
   "metadata": {},
   "outputs": [
    {
     "data": {
      "text/plain": [
       "True"
      ]
     },
     "execution_count": 42,
     "metadata": {},
     "output_type": "execute_result"
    }
   ],
   "source": [
    "pd.isna(y.loc[500,'fans'])"
   ]
  },
  {
   "cell_type": "code",
   "execution_count": 43,
   "metadata": {},
   "outputs": [],
   "source": [
    "for index,i in y.iterrows():\n",
    "    if not pd.isna(y.loc[index,'fans']):\n",
    "        continue\n",
    "    url='https://api.bilibili.com/x/relation/stat?vmid=%s&jsonp=jsonp'%(str(i['mid']))\n",
    "    tem=json.loads(requests.get(url=url).text)\n",
    "    y.loc[index,'fans']=int(tem['data']['follower'])\n",
    "    y.loc[index,'following']=int(tem['data']['following'])\n",
    "    time.sleep(1)"
   ]
  },
  {
   "cell_type": "code",
   "execution_count": 44,
   "metadata": {},
   "outputs": [],
   "source": [
    "y.to_csv('123.csv',index=False)"
   ]
  },
  {
   "cell_type": "code",
   "execution_count": null,
   "metadata": {},
   "outputs": [],
   "source": []
  }
 ],
 "metadata": {
  "kernelspec": {
   "display_name": "Python 3",
   "language": "python",
   "name": "python3"
  },
  "language_info": {
   "codemirror_mode": {
    "name": "ipython",
    "version": 3
   },
   "file_extension": ".py",
   "mimetype": "text/x-python",
   "name": "python",
   "nbconvert_exporter": "python",
   "pygments_lexer": "ipython3",
   "version": "3.8.6"
  }
 },
 "nbformat": 4,
 "nbformat_minor": 4
}
