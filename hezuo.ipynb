{
 "metadata": {
  "language_info": {
   "codemirror_mode": {
    "name": "ipython",
    "version": 3
   },
   "file_extension": ".py",
   "mimetype": "text/x-python",
   "name": "python",
   "nbconvert_exporter": "python",
   "pygments_lexer": "ipython3",
   "version": "3.8.5-final"
  },
  "orig_nbformat": 2,
  "kernelspec": {
   "name": "python3",
   "display_name": "Python 3.8.5 64-bit ('spider': conda)",
   "metadata": {
    "interpreter": {
     "hash": "a0b452149c9e5f3673053fcc83b672789d061aee86ae442d430afc6148443a9a"
    }
   }
  }
 },
 "nbformat": 4,
 "nbformat_minor": 2,
 "cells": [
  {
   "cell_type": "code",
   "execution_count": 1,
   "metadata": {},
   "outputs": [],
   "source": [
    "import requests\n",
    "import re\n",
    "import ast"
   ]
  },
  {
   "cell_type": "code",
   "execution_count": 3,
   "metadata": {},
   "outputs": [],
   "source": [
    "headers = {\n",
    "    \"Cookie\":\"\",\n",
    "    \"User-Agent\":\"Mozilla/5.0 (Windows NT 10.0; Win64; x64) AppleWebKit/537.36 (KHTML, like Gecko) Chrome/86.0.4240.198 Safari/537.36\"\n",
    "}"
   ]
  },
  {
   "cell_type": "code",
   "execution_count": 2,
   "metadata": {},
   "outputs": [],
   "source": [
    "ses = requests.session()\n",
    "res = ses.get('https://www.bilibili.com/video/BV1Mt4y1e7Uh', headers = headers)"
   ]
  },
  {
   "cell_type": "code",
   "execution_count": 39,
   "metadata": {},
   "outputs": [],
   "source": [
    "def get_relation(videoid):\n",
    "    res = ses.get('https://www.bilibili.com/video/'+format(videoid)).text\n",
    "    t = re.findall(\"\\\"staff\\\":\\[[^\\]]*\\]\", res)\n",
    "    if not t:\n",
    "        print(videoid, '匹配失败')\n",
    "        return None\n",
    "    else:\n",
    "        lt = ast.literal_eval(t[0][8:])\n",
    "        for dic in lt:\n",
    "            for item in ['face', 'vip', 'official', 'follower', 'label_style']:\n",
    "                del dic[item]\n",
    "        return lt"
   ]
  },
  {
   "cell_type": "code",
   "execution_count": 41,
   "metadata": {},
   "outputs": [
    {
     "output_type": "execute_result",
     "data": {
      "text/plain": [
       "[{'mid': 546195, 'title': 'UP主', 'name': '老番茄'},\n",
       " {'mid': 1577804, 'title': '参演', 'name': '某幻君'}]"
      ]
     },
     "metadata": {},
     "execution_count": 41
    }
   ],
   "source": [
    "get_relation(\"BV1Mt4y1e7Uh\")"
   ]
  },
  {
   "cell_type": "code",
   "execution_count": null,
   "metadata": {},
   "outputs": [],
   "source": []
  }
 ]
}